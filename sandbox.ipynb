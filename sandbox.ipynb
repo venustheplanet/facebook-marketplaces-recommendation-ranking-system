{
 "cells": [
  {
   "cell_type": "code",
   "execution_count": 2,
   "metadata": {},
   "outputs": [],
   "source": [
    "import pandas as pd\n",
    "from clean_tabular_data import *"
   ]
  },
  {
   "cell_type": "code",
   "execution_count": 3,
   "metadata": {},
   "outputs": [
    {
     "name": "stdout",
     "output_type": "stream",
     "text": [
      "<class 'pandas.core.frame.DataFrame'>\n",
      "RangeIndex: 12604 entries, 0 to 12603\n",
      "Data columns (total 3 columns):\n",
      " #   Column      Non-Null Count  Dtype \n",
      "---  ------      --------------  ----- \n",
      " 0   Unnamed: 0  12604 non-null  int64 \n",
      " 1   id          12604 non-null  object\n",
      " 2   product_id  12604 non-null  object\n",
      "dtypes: int64(1), object(2)\n",
      "memory usage: 295.5+ KB\n",
      "None\n",
      "   Unnamed: 0                                    id  \\\n",
      "0           0  912bb259-3ad9-457b-9db1-ce1da9016057   \n",
      "1           1  b166d305-b852-4bdd-83f4-465b20da94fa   \n",
      "2           2  68f5a29d-0075-4d60-81c1-ab684a82e50c   \n",
      "3           3  f6a309d7-d247-446a-9b5e-aceefdd4334d   \n",
      "4           4  2c2b3a6f-15b3-4289-937a-15482d9f5781   \n",
      "\n",
      "                             product_id  \n",
      "0  5f5f57d7-778f-4336-bb10-b43863418c8c  \n",
      "1  5f5f57d7-778f-4336-bb10-b43863418c8c  \n",
      "2  c2c8949f-3cde-4651-a234-4a4a1b2a9ad4  \n",
      "3  c2c8949f-3cde-4651-a234-4a4a1b2a9ad4  \n",
      "4  8292aa4e-7f1b-4655-bf0e-f1f2c9e3ffaf  \n"
     ]
    }
   ],
   "source": [
    "images = pd.read_csv('Images.csv')\n",
    "# print(df)\n",
    "print(images.info())\n",
    "print(images.head())"
   ]
  },
  {
   "cell_type": "code",
   "execution_count": 4,
   "metadata": {},
   "outputs": [],
   "source": [
    "products = get_data_from_csv('Products.csv')\n",
    "products = remove_null_val(products)\n",
    "products = convert_price_to_num(products)"
   ]
  },
  {
   "cell_type": "code",
   "execution_count": 5,
   "metadata": {},
   "outputs": [
    {
     "name": "stdout",
     "output_type": "stream",
     "text": [
      "0                 Home & Garden \n",
      "1                 Home & Garden \n",
      "2                 Home & Garden \n",
      "3                 Home & Garden \n",
      "12                Home & Garden \n",
      "                  ...           \n",
      "11313    Video Games & Consoles \n",
      "11314    Video Games & Consoles \n",
      "11315    Video Games & Consoles \n",
      "11316    Video Games & Consoles \n",
      "11317    Video Games & Consoles \n",
      "Name: category, Length: 6311, dtype: object\n"
     ]
    }
   ],
   "source": [
    "print(products['category'].str.split('/').str[0])\n",
    "main_cat = products['category'].str.split('/').str[0]"
   ]
  },
  {
   "cell_type": "code",
   "execution_count": 6,
   "metadata": {},
   "outputs": [],
   "source": [
    "products['main_cat'] = main_cat"
   ]
  },
  {
   "cell_type": "code",
   "execution_count": 7,
   "metadata": {},
   "outputs": [],
   "source": [
    "products['labels'] = products['category'].str.split('/').str[0].astype('category').cat.codes"
   ]
  },
  {
   "cell_type": "code",
   "execution_count": 8,
   "metadata": {},
   "outputs": [
    {
     "name": "stdout",
     "output_type": "stream",
     "text": [
      "<class 'pandas.core.frame.DataFrame'>\n",
      "Int64Index: 6311 entries, 0 to 11317\n",
      "Data columns (total 9 columns):\n",
      " #   Column               Non-Null Count  Dtype  \n",
      "---  ------               --------------  -----  \n",
      " 0   Unnamed: 0           6311 non-null   object \n",
      " 1   id                   6311 non-null   object \n",
      " 2   product_name         6311 non-null   object \n",
      " 3   category             6311 non-null   object \n",
      " 4   product_description  6311 non-null   object \n",
      " 5   price                6311 non-null   float64\n",
      " 6   location             6311 non-null   object \n",
      " 7   main_cat             6311 non-null   object \n",
      " 8   labels               6311 non-null   int8   \n",
      "dtypes: float64(1), int8(1), object(7)\n",
      "memory usage: 449.9+ KB\n",
      "None\n",
      "0         6\n",
      "1         6\n",
      "2         6\n",
      "3         6\n",
      "12        6\n",
      "         ..\n",
      "11313    12\n",
      "11314    12\n",
      "11315    12\n",
      "11316    12\n",
      "11317    12\n",
      "Name: labels, Length: 6311, dtype: int8\n"
     ]
    }
   ],
   "source": [
    "print(products.info())\n",
    "print(products['labels'])"
   ]
  },
  {
   "cell_type": "code",
   "execution_count": 9,
   "metadata": {},
   "outputs": [],
   "source": [
    "labels_map = dict(zip(products['main_cat'], products['labels']))"
   ]
  },
  {
   "cell_type": "code",
   "execution_count": 16,
   "metadata": {},
   "outputs": [
    {
     "name": "stdout",
     "output_type": "stream",
     "text": [
      "{'Home & Garden ': 6, 'Baby & Kids Stuff ': 1, 'DIY Tools & Materials ': 4, 'Music, Films, Books & Games ': 7, 'Phones, Mobile Phones & Telecoms ': 10, 'Clothes, Footwear & Accessories ': 2, 'Other Goods ': 9, 'Health & Beauty ': 5, 'Sports, Leisure & Travel ': 11, 'Appliances ': 0, 'Computers & Software ': 3, 'Office Furniture & Equipment ': 8, 'Video Games & Consoles ': 12}\n"
     ]
    }
   ],
   "source": [
    "print(labels_map)"
   ]
  },
  {
   "cell_type": "code",
   "execution_count": 11,
   "metadata": {},
   "outputs": [],
   "source": [
    "import json\n",
    "\n",
    "with open('labels_map.json', 'w') as outfile:\n",
    "    json.dump(labels_map, outfile)"
   ]
  },
  {
   "cell_type": "code",
   "execution_count": 18,
   "metadata": {},
   "outputs": [
    {
     "name": "stdout",
     "output_type": "stream",
     "text": [
      "<class 'pandas.core.frame.DataFrame'>\n",
      "Int64Index: 11122 entries, 0 to 11121\n",
      "Data columns (total 2 columns):\n",
      " #   Column  Non-Null Count  Dtype \n",
      "---  ------  --------------  ----- \n",
      " 0   id      11122 non-null  object\n",
      " 1   labels  11122 non-null  int8  \n",
      "dtypes: int8(1), object(1)\n",
      "memory usage: 184.6+ KB\n",
      "None\n"
     ]
    }
   ],
   "source": [
    "new_df = pd.merge(images, products[['labels', 'id']], left_on='product_id', right_on='id')\n",
    "# print(new_df.head())\n",
    "new_df.rename(columns={\"id_x\": \"id\"}, inplace=True)\n",
    "new_df.drop('id_y', axis=1, inplace=True)\n",
    "new_df.drop('product_id', axis=1, inplace=True)\n",
    "new_df.drop('Unnamed: 0', axis=1, inplace=True)\n",
    "print(new_df.info())"
   ]
  },
  {
   "cell_type": "code",
   "execution_count": 19,
   "metadata": {},
   "outputs": [],
   "source": [
    "new_df['id'] = new_df['id'].astype('str') + '.jpg'"
   ]
  },
  {
   "cell_type": "code",
   "execution_count": 20,
   "metadata": {},
   "outputs": [
    {
     "name": "stdout",
     "output_type": "stream",
     "text": [
      "0        912bb259-3ad9-457b-9db1-ce1da9016057.jpg\n",
      "1        b166d305-b852-4bdd-83f4-465b20da94fa.jpg\n",
      "2        68f5a29d-0075-4d60-81c1-ab684a82e50c.jpg\n",
      "3        f6a309d7-d247-446a-9b5e-aceefdd4334d.jpg\n",
      "4        2c2b3a6f-15b3-4289-937a-15482d9f5781.jpg\n",
      "                           ...                   \n",
      "11117    cdec1c5c-c4b1-42db-afbe-3fa68ea4b87d.jpg\n",
      "11118    dc99e40f-6b15-494d-9fb7-f0d02e9781f9.jpg\n",
      "11119    c8488028-bf07-4258-a4c2-56d2fe387835.jpg\n",
      "11120    c6113145-89c8-47cd-9211-38f29d016cc7.jpg\n",
      "11121    ed2aaf88-616c-4e6b-af49-bbdf7c0fbd06.jpg\n",
      "Name: id, Length: 11122, dtype: object\n"
     ]
    }
   ],
   "source": [
    "print(new_df['id'])"
   ]
  },
  {
   "cell_type": "code",
   "execution_count": 21,
   "metadata": {},
   "outputs": [
    {
     "name": "stdout",
     "output_type": "stream",
     "text": [
      "<class 'pandas.core.frame.DataFrame'>\n",
      "Int64Index: 11122 entries, 0 to 11121\n",
      "Data columns (total 2 columns):\n",
      " #   Column  Non-Null Count  Dtype \n",
      "---  ------  --------------  ----- \n",
      " 0   id      11122 non-null  object\n",
      " 1   labels  11122 non-null  int8  \n",
      "dtypes: int8(1), object(1)\n",
      "memory usage: 184.6+ KB\n",
      "None\n"
     ]
    }
   ],
   "source": [
    "print(new_df.info())"
   ]
  },
  {
   "cell_type": "code",
   "execution_count": 22,
   "metadata": {},
   "outputs": [],
   "source": [
    "new_df.to_csv('training_data.csv', index=False)"
   ]
  },
  {
   "cell_type": "code",
   "execution_count": 24,
   "metadata": {},
   "outputs": [],
   "source": [
    "import os"
   ]
  },
  {
   "cell_type": "code",
   "execution_count": 26,
   "metadata": {},
   "outputs": [
    {
     "name": "stdout",
     "output_type": "stream",
     "text": [
      "/Users/venus/Downloads/cleaned_images 912bb259-3ad9-457b-9db1-ce1da9016057.jpg\n"
     ]
    }
   ],
   "source": [
    "annot_file = pd.read_csv(\"training_data.csv\")\n",
    "print(os.path.join(\"/Users/venus/Downloads/cleaned_images\"), annot_file.iloc[0, 0])"
   ]
  },
  {
   "cell_type": "code",
   "execution_count": null,
   "metadata": {},
   "outputs": [],
   "source": []
  }
 ],
 "metadata": {
  "kernelspec": {
   "display_name": "data",
   "language": "python",
   "name": "python3"
  },
  "language_info": {
   "codemirror_mode": {
    "name": "ipython",
    "version": 3
   },
   "file_extension": ".py",
   "mimetype": "text/x-python",
   "name": "python",
   "nbconvert_exporter": "python",
   "pygments_lexer": "ipython3",
   "version": "3.11.0"
  },
  "orig_nbformat": 4,
  "vscode": {
   "interpreter": {
    "hash": "f639767d5ffac468414f347d9bc968242a544d2f1ed3ed0d206feee1c519788b"
   }
  }
 },
 "nbformat": 4,
 "nbformat_minor": 2
}
