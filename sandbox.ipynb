{
 "cells": [
  {
   "cell_type": "code",
   "execution_count": 7,
   "metadata": {},
   "outputs": [],
   "source": [
    "import pandas as pd\n",
    "from clean_tabular_data import *"
   ]
  },
  {
   "cell_type": "code",
   "execution_count": 21,
   "metadata": {},
   "outputs": [
    {
     "name": "stdout",
     "output_type": "stream",
     "text": [
      "<class 'pandas.core.frame.DataFrame'>\n",
      "RangeIndex: 12604 entries, 0 to 12603\n",
      "Data columns (total 3 columns):\n",
      " #   Column      Non-Null Count  Dtype \n",
      "---  ------      --------------  ----- \n",
      " 0   Unnamed: 0  12604 non-null  int64 \n",
      " 1   id          12604 non-null  object\n",
      " 2   product_id  12604 non-null  object\n",
      "dtypes: int64(1), object(2)\n",
      "memory usage: 295.5+ KB\n",
      "None\n",
      "   Unnamed: 0                                    id  \\\n",
      "0           0  912bb259-3ad9-457b-9db1-ce1da9016057   \n",
      "1           1  b166d305-b852-4bdd-83f4-465b20da94fa   \n",
      "2           2  68f5a29d-0075-4d60-81c1-ab684a82e50c   \n",
      "3           3  f6a309d7-d247-446a-9b5e-aceefdd4334d   \n",
      "4           4  2c2b3a6f-15b3-4289-937a-15482d9f5781   \n",
      "\n",
      "                             product_id  \n",
      "0  5f5f57d7-778f-4336-bb10-b43863418c8c  \n",
      "1  5f5f57d7-778f-4336-bb10-b43863418c8c  \n",
      "2  c2c8949f-3cde-4651-a234-4a4a1b2a9ad4  \n",
      "3  c2c8949f-3cde-4651-a234-4a4a1b2a9ad4  \n",
      "4  8292aa4e-7f1b-4655-bf0e-f1f2c9e3ffaf  \n"
     ]
    }
   ],
   "source": [
    "images = pd.read_csv('Images.csv')\n",
    "# print(df)\n",
    "print(images.info())\n",
    "print(images.head())"
   ]
  },
  {
   "cell_type": "code",
   "execution_count": 9,
   "metadata": {},
   "outputs": [
    {
     "name": "stdout",
     "output_type": "stream",
     "text": [
      "<class 'pandas.core.frame.DataFrame'>\n",
      "RangeIndex: 11318 entries, 0 to 11317\n",
      "Data columns (total 7 columns):\n",
      " #   Column               Non-Null Count  Dtype \n",
      "---  ------               --------------  ----- \n",
      " 0   Unnamed: 0           11195 non-null  object\n",
      " 1   id                   8001 non-null   object\n",
      " 2   product_name         8001 non-null   object\n",
      " 3   category             7156 non-null   object\n",
      " 4   product_description  7156 non-null   object\n",
      " 5   price                6311 non-null   object\n",
      " 6   location             6311 non-null   object\n",
      "dtypes: object(7)\n",
      "memory usage: 619.1+ KB\n",
      "None\n",
      "  Unnamed: 0                                    id  \\\n",
      "0          0  243809c0-9cfc-4486-ad12-3b7a16605ba9   \n",
      "1          1  1c58d3f9-8b93-47ea-9415-204fcc2a22e6   \n",
      "2          2  860673f1-57f6-47ba-8d2f-13f9e05b8f9a   \n",
      "3          3  59948726-29be-4b35-ade5-bb2fd7331856   \n",
      "4          4  16dbc860-696e-4cda-93f6-4dd4926573fb   \n",
      "\n",
      "                                        product_name  \\\n",
      "0  Mirror wall art | in Wokingham, Berkshire | Gu...   \n",
      "1  Stainless Steel Food Steamer | in Inverness, H...   \n",
      "2  Sun loungers | in Skegness, Lincolnshire | Gum...   \n",
      "3  Coffee side table from Ammunition ammo box hai...   \n",
      "4  Modern Shannon Sofa for sale at low cost | in ...   \n",
      "\n",
      "                                            category  \\\n",
      "0  Home & Garden / Dining, Living Room Furniture ...   \n",
      "1              Home & Garden / Other Household Goods   \n",
      "2  Home & Garden / Garden & Patio / Outdoor Setti...   \n",
      "3  Home & Garden / Dining, Living Room Furniture ...   \n",
      "4  Home & Garden / Dining, Living Room Furniture ...   \n",
      "\n",
      "                                 product_description    price  \\\n",
      "0  Mirror wall art. Posted by Nisha in Dining, Li...    £5.00   \n",
      "1  Morphy Richard’s (model no 48755)Stainless ste...   £20.00   \n",
      "2  I have 2 of these - collection only as I don’t...   £20.00   \n",
      "3  Great reclaimed army ammunition box used as co...  £115.00   \n",
      "4  New Design Shannon Corner sofa  5 Seater Avail...      NaN   \n",
      "\n",
      "                 location  \n",
      "0    Wokingham, Berkshire  \n",
      "1     Inverness, Highland  \n",
      "2  Skegness, Lincolnshire  \n",
      "3      Radstock, Somerset  \n",
      "4                     NaN  \n"
     ]
    }
   ],
   "source": [
    "products = get_data_from_csv('Products.csv')\n",
    "products = remove_null_val(products)\n",
    "products = convert_price_to_num(products)"
   ]
  },
  {
   "cell_type": "code",
   "execution_count": 16,
   "metadata": {},
   "outputs": [
    {
     "name": "stdout",
     "output_type": "stream",
     "text": [
      "0                 Home & Garden \n",
      "1                 Home & Garden \n",
      "2                 Home & Garden \n",
      "3                 Home & Garden \n",
      "12                Home & Garden \n",
      "                  ...           \n",
      "11313    Video Games & Consoles \n",
      "11314    Video Games & Consoles \n",
      "11315    Video Games & Consoles \n",
      "11316    Video Games & Consoles \n",
      "11317    Video Games & Consoles \n",
      "Name: category, Length: 6311, dtype: object\n"
     ]
    }
   ],
   "source": [
    "print(products['category'].str.split('/').str[0])"
   ]
  },
  {
   "cell_type": "code",
   "execution_count": 25,
   "metadata": {},
   "outputs": [],
   "source": [
    "products['labels'] = products['category'].str.split('/').str[0].astype('category').cat.codes"
   ]
  },
  {
   "cell_type": "code",
   "execution_count": 28,
   "metadata": {},
   "outputs": [
    {
     "name": "stdout",
     "output_type": "stream",
     "text": [
      "<class 'pandas.core.frame.DataFrame'>\n",
      "Int64Index: 6311 entries, 0 to 11317\n",
      "Data columns (total 8 columns):\n",
      " #   Column               Non-Null Count  Dtype  \n",
      "---  ------               --------------  -----  \n",
      " 0   Unnamed: 0           6311 non-null   object \n",
      " 1   id                   6311 non-null   object \n",
      " 2   product_name         6311 non-null   object \n",
      " 3   category             6311 non-null   object \n",
      " 4   product_description  6311 non-null   object \n",
      " 5   price                6311 non-null   float64\n",
      " 6   location             6311 non-null   object \n",
      " 7   labels               6311 non-null   int8   \n",
      "dtypes: float64(1), int8(1), object(6)\n",
      "memory usage: 658.6+ KB\n",
      "None\n",
      "0         6\n",
      "1         6\n",
      "2         6\n",
      "3         6\n",
      "12        6\n",
      "         ..\n",
      "11313    12\n",
      "11314    12\n",
      "11315    12\n",
      "11316    12\n",
      "11317    12\n",
      "Name: labels, Length: 6311, dtype: int8\n"
     ]
    }
   ],
   "source": [
    "print(products.info())\n",
    "print(products['labels'])"
   ]
  },
  {
   "cell_type": "code",
   "execution_count": 37,
   "metadata": {},
   "outputs": [
    {
     "name": "stdout",
     "output_type": "stream",
     "text": [
      "<class 'pandas.core.frame.DataFrame'>\n",
      "Int64Index: 11122 entries, 0 to 11121\n",
      "Data columns (total 4 columns):\n",
      " #   Column      Non-Null Count  Dtype \n",
      "---  ------      --------------  ----- \n",
      " 0   Unnamed: 0  11122 non-null  int64 \n",
      " 1   id          11122 non-null  object\n",
      " 2   product_id  11122 non-null  object\n",
      " 3   labels      11122 non-null  int8  \n",
      "dtypes: int64(1), int8(1), object(2)\n",
      "memory usage: 358.4+ KB\n",
      "None\n"
     ]
    }
   ],
   "source": [
    "new_df = pd.merge(images, products[['labels', 'id']], left_on='product_id', right_on='id')\n",
    "# print(new_df.head())\n",
    "new_df.rename(columns={\"id_x\": \"id\"}, inplace=True)\n",
    "new_df.drop('id_y', axis=1, inplace=True)\n",
    "print(new_df.info())"
   ]
  },
  {
   "cell_type": "code",
   "execution_count": 38,
   "metadata": {},
   "outputs": [],
   "source": [
    "new_df.to_csv('training_data.csv')"
   ]
  },
  {
   "cell_type": "code",
   "execution_count": null,
   "metadata": {},
   "outputs": [],
   "source": []
  }
 ],
 "metadata": {
  "kernelspec": {
   "display_name": "data",
   "language": "python",
   "name": "python3"
  },
  "language_info": {
   "codemirror_mode": {
    "name": "ipython",
    "version": 3
   },
   "file_extension": ".py",
   "mimetype": "text/x-python",
   "name": "python",
   "nbconvert_exporter": "python",
   "pygments_lexer": "ipython3",
   "version": "3.11.0"
  },
  "orig_nbformat": 4,
  "vscode": {
   "interpreter": {
    "hash": "f639767d5ffac468414f347d9bc968242a544d2f1ed3ed0d206feee1c519788b"
   }
  }
 },
 "nbformat": 4,
 "nbformat_minor": 2
}
